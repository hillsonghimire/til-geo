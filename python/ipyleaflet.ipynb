{
  "cells": [
    {
      "cell_type": "code",
      "execution_count": 1,
      "metadata": {
        "colab": {
          "base_uri": "https://localhost:8080/",
          "height": 721,
          "referenced_widgets": [
            "e5cc34b3f45f4e2c8225ef82a209ddf0",
            "86839abcbb3749b38c09be30f73d18c0",
            "64563c2c53c4470495f7ed540dd9a15a",
            "3b4375f69071406d9799496a7cc10953",
            "b54385c4718b47b2bd6b3122007d7d07",
            "08d0790e64c044389714e2ec46d992d9",
            "83c23e21470b4b75acdc2debee2e07a3",
            "ea367c197ba44459bb0040cb76265d01",
            "697eb852baa94e1baf03350a912af6a6",
            "ae0d96bdbe6f4ffa8d6a535675a91764",
            "fe477f67a35749d1ba554f23a56d3c10",
            "e040e5cc1c304b5d9ba916e47179d49e",
            "71e48fe981f347bab0b9b5d44fd68b7f",
            "0c6300f84c8e4945a5b84b43eb474262",
            "b96890ed6d3e4051af60414301c7b50e",
            "d546915b4f48461ab303282ca05d1843",
            "086653e014d945848ee0dd43bebd9172"
          ]
        },
        "id": "RiKs1_-4ld3Z",
        "outputId": "5ef3bb56-6dca-4dbf-a846-420aecdfe539"
      },
      "outputs": [
        {
          "output_type": "display_data",
          "data": {
            "text/plain": [
              "Map(center=[0, 0], controls=(ZoomControl(options=['position', 'zoom_in_text', 'zoom_in_title', 'zoom_out_text'…"
            ],
            "application/vnd.jupyter.widget-view+json": {
              "version_major": 2,
              "version_minor": 0,
              "model_id": "e5cc34b3f45f4e2c8225ef82a209ddf0"
            }
          },
          "metadata": {
            "application/vnd.jupyter.widget-view+json": {
              "colab": {
                "custom_widget_manager": {
                  "url": "https://ssl.gstatic.com/colaboratory-static/widgets/colab-cdn-widget-manager/b3e629b1971e1542/manager.min.js"
                }
              }
            }
          }
        }
      ],
      "source": [
        "from ipyleaflet import Map, DrawControl, LayersControl, basemap_to_tiles, ScaleControl, FullScreenControl, SearchControl, Marker, AwesomeIcon, basemaps, WKTLayer\n",
        "\n",
        "# _________________________________________________________________________________________________\n",
        "# MULTIPLE BASEMAPS\n",
        "\n",
        "# m = Map(basemap=basemaps.OpenStreetMap.HOT, center=(0, 0), zoom=2)\n",
        "def map(center=(0,0), zoom=2):\n",
        "  HOTOSM = basemap_to_tiles(basemaps.OpenStreetMap.HOT)\n",
        "  HOTOSM.base = True\n",
        "  HOTOSM.name = 'HOT OSM Layer'\n",
        "\n",
        "  WorldStreetMap = basemap_to_tiles(basemaps.Esri.WorldStreetMap)\n",
        "  WorldStreetMap.base = True\n",
        "  WorldStreetMap.name = 'ESRI WorldStreetMap'\n",
        "\n",
        "  NatGeoWorldMap = basemap_to_tiles(basemaps.Esri.NatGeoWorldMap)\n",
        "  NatGeoWorldMap.base = True\n",
        "  NatGeoWorldMap.name = 'ESRI NatGeoWorldMap'\n",
        "\n",
        "  WorldImagery = basemap_to_tiles(basemaps.Esri.WorldImagery)\n",
        "  WorldImagery.base = True\n",
        "  WorldImagery.name = 'ESRI WorldImagery'\n",
        "\n",
        "  m = Map(center=center, zoom=zoom, layers=[WorldStreetMap, NatGeoWorldMap, WorldImagery, HOTOSM])\n",
        "\n",
        "  # _________________________________________________________________________________________________\n",
        "\n",
        "  m.add_control(LayersControl(position=\"topright\"))\n",
        "  m.add_control(ScaleControl(position='bottomleft'))\n",
        "  # m.add_control(FullScreenControl(position='topright'))\n",
        "\n",
        "  # Add Search Feature: SearchControl, Marker, AwesomeIcon\n",
        "  marker = Marker(icon=AwesomeIcon(name=\"map-marker\", marker_color='green', icon_color='darkgreen'))\n",
        "  m.add_control(SearchControl(\n",
        "    position=\"topright\",\n",
        "    url='https://nominatim.openstreetmap.org/search?format=json&q={s}',\n",
        "    zoom=5,\n",
        "    marker=marker\n",
        "  ))\n",
        "\n",
        "  # `Create` and `Add` a DrawControl widget\n",
        "  draw_control = DrawControl()\n",
        "  m.add_control(draw_control)\n",
        "\n",
        "\n",
        "  # `on_draw` action function to add a draw event listener to the DrawControl, allowing to define a `callback function` that will be called whenever a shape is drawn on the map\n",
        "  global feat_list\n",
        "  feat_list = []\n",
        "  def handle_draw(target, action, geo_json):\n",
        "    feat_list.append(geo_json['geometry'])\n",
        "  draw_control.on_draw(handle_draw)\n",
        "\n",
        "  # Output dimension\n",
        "  m.layout.width = '80%'\n",
        "  m.layout.height = '700px'\n",
        "  return m\n",
        "\n",
        "x = map(zoom=3)\n",
        "x"
      ]
    },
    {
      "cell_type": "code",
      "execution_count": 2,
      "metadata": {
        "colab": {
          "base_uri": "https://localhost:8080/"
        },
        "id": "IzOPeFTFlg-m",
        "outputId": "9ab0ff81-0048-4a04-dce1-8becb2ba7cd8"
      },
      "outputs": [
        {
          "output_type": "execute_result",
          "data": {
            "text/plain": [
              "[{'type': 'Polygon',\n",
              "  'coordinates': [[[19.473486, 45.089036],\n",
              "    [4.007834, 26.115986],\n",
              "    [24.042883, 6.489983],\n",
              "    [35.993614, 26.74561],\n",
              "    [19.473486, 43.580391],\n",
              "    [19.473486, 45.089036]]]}]"
            ]
          },
          "metadata": {},
          "execution_count": 2
        }
      ],
      "source": [
        "feat_list"
      ]
    },
    {
      "cell_type": "code",
      "execution_count": 3,
      "metadata": {
        "colab": {
          "base_uri": "https://localhost:8080/"
        },
        "id": "-tzK1eI6rXSc",
        "outputId": "a7bfc973-0bd4-499e-838c-8180bf325e34"
      },
      "outputs": [
        {
          "output_type": "execute_result",
          "data": {
            "text/plain": [
              "[[[19.473486, 45.089036],\n",
              "  [4.007834, 26.115986],\n",
              "  [24.042883, 6.489983],\n",
              "  [35.993614, 26.74561],\n",
              "  [19.473486, 43.580391],\n",
              "  [19.473486, 45.089036]]]"
            ]
          },
          "metadata": {},
          "execution_count": 3
        }
      ],
      "source": [
        "feat_list[0]['coordinates']"
      ]
    },
    {
      "cell_type": "code",
      "execution_count": 4,
      "metadata": {
        "colab": {
          "base_uri": "https://localhost:8080/",
          "height": 721,
          "referenced_widgets": [
            "e24e997b8bfa4362902c2d8b2139e61c",
            "b50ff3c46bbe40909167f41e42f485bb",
            "2b3184bfaebe48a6b8b488e524ca628b",
            "7c4ce675fae84468a9117c14b0551a80",
            "18f5f04acd474157be3ac1bf3d213665",
            "f602b3e32ebd4be4ba45df08bcee93ba",
            "25d9b6a14fa54eef8849f08162a0a8bd",
            "6dbab3cf02cf4e4eba36b2251c741af1",
            "6087c9932eaf482aa2d7749603726e10",
            "e747ac50d98f4d04a873abdc89a9cd2f",
            "6f120bf72bc44321acdb41aa40ad7321",
            "aa96bac886fe484da8d033272685b9ae",
            "412badee4ed647b681bc5722920dcf75",
            "359f46cd5daa40559b12b6f5f62c05f9",
            "d018c972fe464e5a8ed9550a5446208b",
            "a70342f069aa45e68c78add4c47aa5dc",
            "18789a2a78c44b9291fba96b8b5203dc",
            "6c87f32e8a8b444088f968d9bd331119"
          ]
        },
        "id": "oZNjr47KvhRi",
        "outputId": "3ea6ad22-3bab-4020-cf16-3aaf1efe8745"
      },
      "outputs": [
        {
          "output_type": "display_data",
          "data": {
            "text/plain": [
              "Map(center=[0, 0], controls=(ZoomControl(options=['position', 'zoom_in_text', 'zoom_in_title', 'zoom_out_text'…"
            ],
            "application/vnd.jupyter.widget-view+json": {
              "version_major": 2,
              "version_minor": 0,
              "model_id": "e24e997b8bfa4362902c2d8b2139e61c"
            }
          },
          "metadata": {
            "application/vnd.jupyter.widget-view+json": {
              "colab": {
                "custom_widget_manager": {
                  "url": "https://ssl.gstatic.com/colaboratory-static/widgets/colab-cdn-widget-manager/b3e629b1971e1542/manager.min.js"
                }
              }
            }
          }
        }
      ],
      "source": [
        "from shapely.geometry import Polygon\n",
        "\n",
        "# Create a Shapely polygon\n",
        "polygon = Polygon([(0, 0), (0, 10), (10, 10), (10, 0)])\n",
        "\n",
        "# Convert the polygon to WKT format\n",
        "wkt_string = polygon.wkt\n",
        "\n",
        "# Create a WKTLayer and add it to the map\n",
        "wkt_layer = WKTLayer(wkt_string=wkt_string)\n",
        "m=map()\n",
        "m.add_layer(wkt_layer)\n",
        "\n",
        "# Display the map\n",
        "m"
      ]
    },
    {
      "cell_type": "code",
      "execution_count": null,
      "metadata": {
        "id": "wBYYOtj1AEHl"
      },
      "outputs": [],
      "source": []
    }
  ],
  "metadata": {
    "colab": {
      "provenance": []
    },
    "kernelspec": {
      "display_name": "Python 3",
      "name": "python3"
    },
    "language_info": {
      "name": "python"
    },
    "widgets": {
      "application/vnd.jupyter.widget-state+json": {
        "e5cc34b3f45f4e2c8225ef82a209ddf0": {
          "model_module": "jupyter-leaflet",
          "model_name": "LeafletMapModel",
          "model_module_version": "^0.17",
          "state": {
            "_dom_classes": [],
            "_model_module": "jupyter-leaflet",
            "_model_module_version": "^0.17",
            "_model_name": "LeafletMapModel",
            "_view_count": null,
            "_view_module": "jupyter-leaflet",
            "_view_module_version": "^0.17",
            "_view_name": "LeafletMapView",
            "bottom": 1374,
            "bounce_at_zoom_limits": true,
            "box_zoom": true,
            "center": [
              0,
              0
            ],
            "close_popup_on_click": true,
            "controls": [
              "IPY_MODEL_86839abcbb3749b38c09be30f73d18c0",
              "IPY_MODEL_64563c2c53c4470495f7ed540dd9a15a",
              "IPY_MODEL_3b4375f69071406d9799496a7cc10953",
              "IPY_MODEL_b54385c4718b47b2bd6b3122007d7d07",
              "IPY_MODEL_08d0790e64c044389714e2ec46d992d9",
              "IPY_MODEL_83c23e21470b4b75acdc2debee2e07a3"
            ],
            "crs": {
              "name": "EPSG3857",
              "custom": false
            },
            "default_style": "IPY_MODEL_ea367c197ba44459bb0040cb76265d01",
            "double_click_zoom": true,
            "dragging": true,
            "dragging_style": "IPY_MODEL_697eb852baa94e1baf03350a912af6a6",
            "east": 171.38671875,
            "fullscreen": false,
            "inertia": true,
            "inertia_deceleration": 3000,
            "inertia_max_speed": 1500,
            "interpolation": "bilinear",
            "keyboard": true,
            "keyboard_pan_offset": 80,
            "keyboard_zoom_offset": 1,
            "layers": [
              "IPY_MODEL_ae0d96bdbe6f4ffa8d6a535675a91764",
              "IPY_MODEL_fe477f67a35749d1ba554f23a56d3c10",
              "IPY_MODEL_e040e5cc1c304b5d9ba916e47179d49e",
              "IPY_MODEL_71e48fe981f347bab0b9b5d44fd68b7f"
            ],
            "layout": "IPY_MODEL_0c6300f84c8e4945a5b84b43eb474262",
            "left": 49,
            "max_zoom": null,
            "min_zoom": null,
            "modisdate": "2023-11-18",
            "north": 52.26815737376817,
            "options": [
              "bounce_at_zoom_limits",
              "box_zoom",
              "center",
              "close_popup_on_click",
              "double_click_zoom",
              "dragging",
              "fullscreen",
              "inertia",
              "inertia_deceleration",
              "inertia_max_speed",
              "interpolation",
              "keyboard",
              "keyboard_pan_offset",
              "keyboard_zoom_offset",
              "max_zoom",
              "min_zoom",
              "prefer_canvas",
              "scroll_wheel_zoom",
              "tap",
              "tap_tolerance",
              "touch_zoom",
              "world_copy_jump",
              "zoom",
              "zoom_animation_threshold",
              "zoom_delta",
              "zoom_snap"
            ],
            "panes": {},
            "prefer_canvas": false,
            "right": 1999,
            "scroll_wheel_zoom": false,
            "south": -52.26815737376817,
            "style": "IPY_MODEL_b96890ed6d3e4051af60414301c7b50e",
            "tap": true,
            "tap_tolerance": 15,
            "top": 674,
            "touch_zoom": true,
            "west": -171.38671875,
            "window_url": "https://kghfm81kg2i-496ff2e9c6d22116-0-colab.googleusercontent.com/outputframe.html?vrz=colab_20231116-060106_RC00_582998276",
            "world_copy_jump": false,
            "zoom": 3,
            "zoom_animation_threshold": 4,
            "zoom_delta": 1,
            "zoom_snap": 1
          }
        },
        "86839abcbb3749b38c09be30f73d18c0": {
          "model_module": "jupyter-leaflet",
          "model_name": "LeafletZoomControlModel",
          "model_module_version": "^0.17",
          "state": {
            "_model_module": "jupyter-leaflet",
            "_model_module_version": "^0.17",
            "_model_name": "LeafletZoomControlModel",
            "_view_count": null,
            "_view_module": "jupyter-leaflet",
            "_view_module_version": "^0.17",
            "_view_name": "LeafletZoomControlView",
            "options": [
              "position",
              "zoom_in_text",
              "zoom_in_title",
              "zoom_out_text",
              "zoom_out_title"
            ],
            "position": "topleft",
            "zoom_in_text": "+",
            "zoom_in_title": "Zoom in",
            "zoom_out_text": "-",
            "zoom_out_title": "Zoom out"
          }
        },
        "64563c2c53c4470495f7ed540dd9a15a": {
          "model_module": "jupyter-leaflet",
          "model_name": "LeafletAttributionControlModel",
          "model_module_version": "^0.17",
          "state": {
            "_model_module": "jupyter-leaflet",
            "_model_module_version": "^0.17",
            "_model_name": "LeafletAttributionControlModel",
            "_view_count": null,
            "_view_module": "jupyter-leaflet",
            "_view_module_version": "^0.17",
            "_view_name": "LeafletAttributionControlView",
            "options": [
              "position",
              "prefix"
            ],
            "position": "bottomright",
            "prefix": "ipyleaflet"
          }
        },
        "3b4375f69071406d9799496a7cc10953": {
          "model_module": "jupyter-leaflet",
          "model_name": "LeafletLayersControlModel",
          "model_module_version": "^0.17",
          "state": {
            "_model_module": "jupyter-leaflet",
            "_model_module_version": "^0.17",
            "_model_name": "LeafletLayersControlModel",
            "_view_count": null,
            "_view_module": "jupyter-leaflet",
            "_view_module_version": "^0.17",
            "_view_name": "LeafletLayersControlView",
            "options": [
              "position"
            ],
            "position": "topright"
          }
        },
        "b54385c4718b47b2bd6b3122007d7d07": {
          "model_module": "jupyter-leaflet",
          "model_name": "LeafletScaleControlModel",
          "model_module_version": "^0.17",
          "state": {
            "_model_module": "jupyter-leaflet",
            "_model_module_version": "^0.17",
            "_model_name": "LeafletScaleControlModel",
            "_view_count": null,
            "_view_module": "jupyter-leaflet",
            "_view_module_version": "^0.17",
            "_view_name": "LeafletScaleControlView",
            "imperial": true,
            "max_width": 100,
            "metric": true,
            "options": [
              "imperial",
              "max_width",
              "metric",
              "position",
              "update_when_idle"
            ],
            "position": "bottomleft",
            "update_when_idle": false
          }
        },
        "08d0790e64c044389714e2ec46d992d9": {
          "model_module": "jupyter-leaflet",
          "model_name": "LeafletSearchControlModel",
          "model_module_version": "^0.17",
          "state": {
            "_model_module": "jupyter-leaflet",
            "_model_module_version": "^0.17",
            "_model_name": "LeafletSearchControlModel",
            "_view_count": null,
            "_view_module": "jupyter-leaflet",
            "_view_module_version": "^0.17",
            "_view_name": "LeafletSearchControlView",
            "animate_location": false,
            "auto_collapse": false,
            "auto_type": false,
            "found_style": {
              "fillColor": "#3f0",
              "color": "#0f0"
            },
            "jsonp_param": "json_callback",
            "layer": null,
            "marker": "IPY_MODEL_d546915b4f48461ab303282ca05d1843",
            "options": [
              "animate_location",
              "auto_collapse",
              "auto_type",
              "found_style",
              "jsonp_param",
              "position",
              "property_loc",
              "property_name",
              "url",
              "zoom"
            ],
            "position": "topright",
            "property_loc": [
              "lat",
              "lon"
            ],
            "property_name": "display_name",
            "url": "https://nominatim.openstreetmap.org/search?format=json&q={s}",
            "zoom": 5
          }
        },
        "83c23e21470b4b75acdc2debee2e07a3": {
          "model_module": "jupyter-leaflet",
          "model_name": "LeafletDrawControlModel",
          "model_module_version": "^0.17",
          "state": {
            "_model_module": "jupyter-leaflet",
            "_model_module_version": "^0.17",
            "_model_name": "LeafletDrawControlModel",
            "_view_count": null,
            "_view_module": "jupyter-leaflet",
            "_view_module_version": "^0.17",
            "_view_name": "LeafletDrawControlView",
            "circle": {},
            "circlemarker": {
              "shapeOptions": {}
            },
            "data": [
              {
                "type": "Feature",
                "properties": {
                  "style": {
                    "stroke": true,
                    "color": "#3388ff",
                    "weight": 4,
                    "opacity": 0.5,
                    "fill": true,
                    "fillColor": null,
                    "fillOpacity": 0.2,
                    "clickable": true
                  }
                },
                "geometry": {
                  "type": "Polygon",
                  "coordinates": [
                    [
                      [
                        19.473486,
                        45.089036
                      ],
                      [
                        4.007834,
                        26.115986
                      ],
                      [
                        24.042883,
                        6.489983
                      ],
                      [
                        35.993614,
                        26.74561
                      ],
                      [
                        19.473486,
                        43.580391
                      ],
                      [
                        19.473486,
                        45.089036
                      ]
                    ]
                  ]
                }
              }
            ],
            "edit": true,
            "marker": {},
            "options": [
              "position"
            ],
            "polygon": {
              "shapeOptions": {}
            },
            "polyline": {
              "shapeOptions": {}
            },
            "position": "topleft",
            "rectangle": {},
            "remove": true
          }
        },
        "ea367c197ba44459bb0040cb76265d01": {
          "model_module": "jupyter-leaflet",
          "model_name": "LeafletMapStyleModel",
          "model_module_version": "^0.17",
          "state": {
            "_model_module": "jupyter-leaflet",
            "_model_module_version": "^0.17",
            "_model_name": "LeafletMapStyleModel",
            "_view_count": null,
            "_view_module": "@jupyter-widgets/base",
            "_view_module_version": "1.2.0",
            "_view_name": "StyleView",
            "cursor": "grab"
          }
        },
        "697eb852baa94e1baf03350a912af6a6": {
          "model_module": "jupyter-leaflet",
          "model_name": "LeafletMapStyleModel",
          "model_module_version": "^0.17",
          "state": {
            "_model_module": "jupyter-leaflet",
            "_model_module_version": "^0.17",
            "_model_name": "LeafletMapStyleModel",
            "_view_count": null,
            "_view_module": "@jupyter-widgets/base",
            "_view_module_version": "1.2.0",
            "_view_name": "StyleView",
            "cursor": "move"
          }
        },
        "ae0d96bdbe6f4ffa8d6a535675a91764": {
          "model_module": "jupyter-leaflet",
          "model_name": "LeafletTileLayerModel",
          "model_module_version": "^0.17",
          "state": {
            "_model_module": "jupyter-leaflet",
            "_model_module_version": "^0.17",
            "_model_name": "LeafletTileLayerModel",
            "_view_count": null,
            "_view_module": "jupyter-leaflet",
            "_view_module_version": "^0.17",
            "_view_name": "LeafletTileLayerView",
            "attribution": "Tiles &copy; Esri &mdash; Source: Esri, DeLorme, NAVTEQ, USGS, Intermap, iPC, NRCAN, Esri Japan, METI, Esri China (Hong Kong), Esri (Thailand), TomTom, 2012",
            "base": true,
            "bottom": true,
            "bounds": null,
            "detect_retina": false,
            "loading": false,
            "max_native_zoom": null,
            "max_zoom": 18,
            "min_native_zoom": null,
            "min_zoom": 1,
            "name": "ESRI WorldStreetMap",
            "no_wrap": false,
            "opacity": 1,
            "options": [
              "attribution",
              "bounds",
              "detect_retina",
              "max_native_zoom",
              "max_zoom",
              "min_native_zoom",
              "min_zoom",
              "no_wrap",
              "tile_size",
              "tms",
              "zoom_offset"
            ],
            "pane": "",
            "popup": null,
            "popup_max_height": null,
            "popup_max_width": 300,
            "popup_min_width": 50,
            "show_loading": false,
            "subitems": [],
            "tile_size": 256,
            "tms": false,
            "url": "https://server.arcgisonline.com/ArcGIS/rest/services/World_Street_Map/MapServer/tile/{z}/{y}/{x}",
            "visible": true,
            "zoom_offset": 0
          }
        },
        "fe477f67a35749d1ba554f23a56d3c10": {
          "model_module": "jupyter-leaflet",
          "model_name": "LeafletTileLayerModel",
          "model_module_version": "^0.17",
          "state": {
            "_model_module": "jupyter-leaflet",
            "_model_module_version": "^0.17",
            "_model_name": "LeafletTileLayerModel",
            "_view_count": null,
            "_view_module": "jupyter-leaflet",
            "_view_module_version": "^0.17",
            "_view_name": "LeafletTileLayerView",
            "attribution": "Tiles &copy; Esri &mdash; National Geographic, Esri, DeLorme, NAVTEQ, UNEP-WCMC, USGS, NASA, ESA, METI, NRCAN, GEBCO, NOAA, iPC",
            "base": true,
            "bottom": true,
            "bounds": null,
            "detect_retina": false,
            "loading": false,
            "max_native_zoom": null,
            "max_zoom": 16,
            "min_native_zoom": null,
            "min_zoom": 1,
            "name": "ESRI NatGeoWorldMap",
            "no_wrap": false,
            "opacity": 1,
            "options": [
              "attribution",
              "bounds",
              "detect_retina",
              "max_native_zoom",
              "max_zoom",
              "min_native_zoom",
              "min_zoom",
              "no_wrap",
              "tile_size",
              "tms",
              "zoom_offset"
            ],
            "pane": "",
            "popup": null,
            "popup_max_height": null,
            "popup_max_width": 300,
            "popup_min_width": 50,
            "show_loading": false,
            "subitems": [],
            "tile_size": 256,
            "tms": false,
            "url": "https://server.arcgisonline.com/ArcGIS/rest/services/NatGeo_World_Map/MapServer/tile/{z}/{y}/{x}",
            "visible": true,
            "zoom_offset": 0
          }
        },
        "e040e5cc1c304b5d9ba916e47179d49e": {
          "model_module": "jupyter-leaflet",
          "model_name": "LeafletTileLayerModel",
          "model_module_version": "^0.17",
          "state": {
            "_model_module": "jupyter-leaflet",
            "_model_module_version": "^0.17",
            "_model_name": "LeafletTileLayerModel",
            "_view_count": null,
            "_view_module": "jupyter-leaflet",
            "_view_module_version": "^0.17",
            "_view_name": "LeafletTileLayerView",
            "attribution": "Tiles &copy; Esri &mdash; Source: Esri, i-cubed, USDA, USGS, AEX, GeoEye, Getmapping, Aerogrid, IGN, IGP, UPR-EGP, and the GIS User Community",
            "base": true,
            "bottom": true,
            "bounds": null,
            "detect_retina": false,
            "loading": false,
            "max_native_zoom": null,
            "max_zoom": 18,
            "min_native_zoom": null,
            "min_zoom": 1,
            "name": "ESRI WorldImagery",
            "no_wrap": false,
            "opacity": 1,
            "options": [
              "attribution",
              "bounds",
              "detect_retina",
              "max_native_zoom",
              "max_zoom",
              "min_native_zoom",
              "min_zoom",
              "no_wrap",
              "tile_size",
              "tms",
              "zoom_offset"
            ],
            "pane": "",
            "popup": null,
            "popup_max_height": null,
            "popup_max_width": 300,
            "popup_min_width": 50,
            "show_loading": false,
            "subitems": [],
            "tile_size": 256,
            "tms": false,
            "url": "https://server.arcgisonline.com/ArcGIS/rest/services/World_Imagery/MapServer/tile/{z}/{y}/{x}",
            "visible": true,
            "zoom_offset": 0
          }
        },
        "71e48fe981f347bab0b9b5d44fd68b7f": {
          "model_module": "jupyter-leaflet",
          "model_name": "LeafletTileLayerModel",
          "model_module_version": "^0.17",
          "state": {
            "_model_module": "jupyter-leaflet",
            "_model_module_version": "^0.17",
            "_model_name": "LeafletTileLayerModel",
            "_view_count": null,
            "_view_module": "jupyter-leaflet",
            "_view_module_version": "^0.17",
            "_view_name": "LeafletTileLayerView",
            "attribution": "&copy; <a href=\"https://www.openstreetmap.org/copyright\">OpenStreetMap</a> contributors, Tiles style by <a href=\"https://www.hotosm.org/\" target=\"_blank\">Humanitarian OpenStreetMap Team</a> hosted by <a href=\"https://openstreetmap.fr/\" target=\"_blank\">OpenStreetMap France</a>",
            "base": true,
            "bottom": true,
            "bounds": null,
            "detect_retina": false,
            "loading": false,
            "max_native_zoom": null,
            "max_zoom": 19,
            "min_native_zoom": null,
            "min_zoom": 1,
            "name": "HOT OSM Layer",
            "no_wrap": false,
            "opacity": 1,
            "options": [
              "attribution",
              "bounds",
              "detect_retina",
              "max_native_zoom",
              "max_zoom",
              "min_native_zoom",
              "min_zoom",
              "no_wrap",
              "tile_size",
              "tms",
              "zoom_offset"
            ],
            "pane": "",
            "popup": null,
            "popup_max_height": null,
            "popup_max_width": 300,
            "popup_min_width": 50,
            "show_loading": false,
            "subitems": [],
            "tile_size": 256,
            "tms": false,
            "url": "https://a.tile.openstreetmap.fr/hot/{z}/{x}/{y}.png",
            "visible": true,
            "zoom_offset": 0
          }
        },
        "0c6300f84c8e4945a5b84b43eb474262": {
          "model_module": "@jupyter-widgets/base",
          "model_name": "LayoutModel",
          "model_module_version": "1.2.0",
          "state": {
            "_model_module": "@jupyter-widgets/base",
            "_model_module_version": "1.2.0",
            "_model_name": "LayoutModel",
            "_view_count": null,
            "_view_module": "@jupyter-widgets/base",
            "_view_module_version": "1.2.0",
            "_view_name": "LayoutView",
            "align_content": null,
            "align_items": null,
            "align_self": null,
            "border": null,
            "bottom": null,
            "display": null,
            "flex": null,
            "flex_flow": null,
            "grid_area": null,
            "grid_auto_columns": null,
            "grid_auto_flow": null,
            "grid_auto_rows": null,
            "grid_column": null,
            "grid_gap": null,
            "grid_row": null,
            "grid_template_areas": null,
            "grid_template_columns": null,
            "grid_template_rows": null,
            "height": "700px",
            "justify_content": null,
            "justify_items": null,
            "left": null,
            "margin": null,
            "max_height": null,
            "max_width": null,
            "min_height": null,
            "min_width": null,
            "object_fit": null,
            "object_position": null,
            "order": null,
            "overflow": null,
            "overflow_x": null,
            "overflow_y": null,
            "padding": null,
            "right": null,
            "top": null,
            "visibility": null,
            "width": "80%"
          }
        },
        "b96890ed6d3e4051af60414301c7b50e": {
          "model_module": "jupyter-leaflet",
          "model_name": "LeafletMapStyleModel",
          "model_module_version": "^0.17",
          "state": {
            "_model_module": "jupyter-leaflet",
            "_model_module_version": "^0.17",
            "_model_name": "LeafletMapStyleModel",
            "_view_count": null,
            "_view_module": "@jupyter-widgets/base",
            "_view_module_version": "1.2.0",
            "_view_name": "StyleView",
            "cursor": "grab"
          }
        },
        "d546915b4f48461ab303282ca05d1843": {
          "model_module": "jupyter-leaflet",
          "model_name": "LeafletMarkerModel",
          "model_module_version": "^0.17",
          "state": {
            "_model_module": "jupyter-leaflet",
            "_model_module_version": "^0.17",
            "_model_name": "LeafletMarkerModel",
            "_view_count": null,
            "_view_module": "jupyter-leaflet",
            "_view_module_version": "^0.17",
            "_view_name": "LeafletMarkerView",
            "alt": "",
            "base": false,
            "bottom": false,
            "draggable": true,
            "icon": "IPY_MODEL_086653e014d945848ee0dd43bebd9172",
            "keyboard": true,
            "location": [
              0,
              0
            ],
            "name": "",
            "opacity": 1,
            "options": [
              "alt",
              "draggable",
              "keyboard",
              "rise_offset",
              "rise_on_hover",
              "rotation_angle",
              "rotation_origin",
              "title",
              "z_index_offset"
            ],
            "pane": "",
            "popup": null,
            "popup_max_height": null,
            "popup_max_width": 300,
            "popup_min_width": 50,
            "rise_offset": 250,
            "rise_on_hover": false,
            "rotation_angle": 0,
            "rotation_origin": "",
            "subitems": [],
            "title": "",
            "visible": true,
            "z_index_offset": 0
          }
        },
        "086653e014d945848ee0dd43bebd9172": {
          "model_module": "jupyter-leaflet",
          "model_name": "LeafletAwesomeIconModel",
          "model_module_version": "^0.17",
          "state": {
            "_model_module": "jupyter-leaflet",
            "_model_module_version": "^0.17",
            "_model_name": "LeafletAwesomeIconModel",
            "_view_count": null,
            "_view_module": "jupyter-leaflet",
            "_view_module_version": "^0.17",
            "_view_name": "LeafletAwesomeIconView",
            "base": false,
            "bottom": false,
            "icon_color": "darkgreen",
            "marker_color": "green",
            "name": "map-marker",
            "options": [],
            "pane": "",
            "popup": null,
            "popup_max_height": null,
            "popup_max_width": 300,
            "popup_min_width": 50,
            "spin": false,
            "subitems": []
          }
        },
        "e24e997b8bfa4362902c2d8b2139e61c": {
          "model_module": "jupyter-leaflet",
          "model_name": "LeafletMapModel",
          "model_module_version": "^0.17",
          "state": {
            "_dom_classes": [],
            "_model_module": "jupyter-leaflet",
            "_model_module_version": "^0.17",
            "_model_name": "LeafletMapModel",
            "_view_count": null,
            "_view_module": "jupyter-leaflet",
            "_view_module_version": "^0.17",
            "_view_name": "LeafletMapView",
            "bottom": 862,
            "bounce_at_zoom_limits": true,
            "box_zoom": true,
            "center": [
              0,
              0
            ],
            "close_popup_on_click": true,
            "controls": [
              "IPY_MODEL_b50ff3c46bbe40909167f41e42f485bb",
              "IPY_MODEL_2b3184bfaebe48a6b8b488e524ca628b",
              "IPY_MODEL_7c4ce675fae84468a9117c14b0551a80",
              "IPY_MODEL_18f5f04acd474157be3ac1bf3d213665",
              "IPY_MODEL_f602b3e32ebd4be4ba45df08bcee93ba",
              "IPY_MODEL_25d9b6a14fa54eef8849f08162a0a8bd"
            ],
            "crs": {
              "name": "EPSG3857",
              "custom": false
            },
            "default_style": "IPY_MODEL_6dbab3cf02cf4e4eba36b2251c741af1",
            "double_click_zoom": true,
            "dragging": true,
            "dragging_style": "IPY_MODEL_6087c9932eaf482aa2d7749603726e10",
            "east": 342.7734375,
            "fullscreen": false,
            "inertia": true,
            "inertia_deceleration": 3000,
            "inertia_max_speed": 1500,
            "interpolation": "bilinear",
            "keyboard": true,
            "keyboard_pan_offset": 80,
            "keyboard_zoom_offset": 1,
            "layers": [
              "IPY_MODEL_e747ac50d98f4d04a873abdc89a9cd2f",
              "IPY_MODEL_6f120bf72bc44321acdb41aa40ad7321",
              "IPY_MODEL_aa96bac886fe484da8d033272685b9ae",
              "IPY_MODEL_412badee4ed647b681bc5722920dcf75",
              "IPY_MODEL_359f46cd5daa40559b12b6f5f62c05f9"
            ],
            "layout": "IPY_MODEL_d018c972fe464e5a8ed9550a5446208b",
            "left": -463,
            "max_zoom": null,
            "min_zoom": null,
            "modisdate": "2023-11-18",
            "north": 76.67978490310692,
            "options": [
              "bounce_at_zoom_limits",
              "box_zoom",
              "center",
              "close_popup_on_click",
              "double_click_zoom",
              "dragging",
              "fullscreen",
              "inertia",
              "inertia_deceleration",
              "inertia_max_speed",
              "interpolation",
              "keyboard",
              "keyboard_pan_offset",
              "keyboard_zoom_offset",
              "max_zoom",
              "min_zoom",
              "prefer_canvas",
              "scroll_wheel_zoom",
              "tap",
              "tap_tolerance",
              "touch_zoom",
              "world_copy_jump",
              "zoom",
              "zoom_animation_threshold",
              "zoom_delta",
              "zoom_snap"
            ],
            "panes": {},
            "prefer_canvas": false,
            "right": 1487,
            "scroll_wheel_zoom": false,
            "south": -76.67978490310692,
            "style": "IPY_MODEL_a70342f069aa45e68c78add4c47aa5dc",
            "tap": true,
            "tap_tolerance": 15,
            "top": 162,
            "touch_zoom": true,
            "west": -342.7734375,
            "window_url": "https://kghfm81kg2i-496ff2e9c6d22116-0-colab.googleusercontent.com/outputframe.html?vrz=colab_20231116-060106_RC00_582998276",
            "world_copy_jump": false,
            "zoom": 2,
            "zoom_animation_threshold": 4,
            "zoom_delta": 1,
            "zoom_snap": 1
          }
        },
        "b50ff3c46bbe40909167f41e42f485bb": {
          "model_module": "jupyter-leaflet",
          "model_name": "LeafletZoomControlModel",
          "model_module_version": "^0.17",
          "state": {
            "_model_module": "jupyter-leaflet",
            "_model_module_version": "^0.17",
            "_model_name": "LeafletZoomControlModel",
            "_view_count": null,
            "_view_module": "jupyter-leaflet",
            "_view_module_version": "^0.17",
            "_view_name": "LeafletZoomControlView",
            "options": [
              "position",
              "zoom_in_text",
              "zoom_in_title",
              "zoom_out_text",
              "zoom_out_title"
            ],
            "position": "topleft",
            "zoom_in_text": "+",
            "zoom_in_title": "Zoom in",
            "zoom_out_text": "-",
            "zoom_out_title": "Zoom out"
          }
        },
        "2b3184bfaebe48a6b8b488e524ca628b": {
          "model_module": "jupyter-leaflet",
          "model_name": "LeafletAttributionControlModel",
          "model_module_version": "^0.17",
          "state": {
            "_model_module": "jupyter-leaflet",
            "_model_module_version": "^0.17",
            "_model_name": "LeafletAttributionControlModel",
            "_view_count": null,
            "_view_module": "jupyter-leaflet",
            "_view_module_version": "^0.17",
            "_view_name": "LeafletAttributionControlView",
            "options": [
              "position",
              "prefix"
            ],
            "position": "bottomright",
            "prefix": "ipyleaflet"
          }
        },
        "7c4ce675fae84468a9117c14b0551a80": {
          "model_module": "jupyter-leaflet",
          "model_name": "LeafletLayersControlModel",
          "model_module_version": "^0.17",
          "state": {
            "_model_module": "jupyter-leaflet",
            "_model_module_version": "^0.17",
            "_model_name": "LeafletLayersControlModel",
            "_view_count": null,
            "_view_module": "jupyter-leaflet",
            "_view_module_version": "^0.17",
            "_view_name": "LeafletLayersControlView",
            "options": [
              "position"
            ],
            "position": "topright"
          }
        },
        "18f5f04acd474157be3ac1bf3d213665": {
          "model_module": "jupyter-leaflet",
          "model_name": "LeafletScaleControlModel",
          "model_module_version": "^0.17",
          "state": {
            "_model_module": "jupyter-leaflet",
            "_model_module_version": "^0.17",
            "_model_name": "LeafletScaleControlModel",
            "_view_count": null,
            "_view_module": "jupyter-leaflet",
            "_view_module_version": "^0.17",
            "_view_name": "LeafletScaleControlView",
            "imperial": true,
            "max_width": 100,
            "metric": true,
            "options": [
              "imperial",
              "max_width",
              "metric",
              "position",
              "update_when_idle"
            ],
            "position": "bottomleft",
            "update_when_idle": false
          }
        },
        "f602b3e32ebd4be4ba45df08bcee93ba": {
          "model_module": "jupyter-leaflet",
          "model_name": "LeafletSearchControlModel",
          "model_module_version": "^0.17",
          "state": {
            "_model_module": "jupyter-leaflet",
            "_model_module_version": "^0.17",
            "_model_name": "LeafletSearchControlModel",
            "_view_count": null,
            "_view_module": "jupyter-leaflet",
            "_view_module_version": "^0.17",
            "_view_name": "LeafletSearchControlView",
            "animate_location": false,
            "auto_collapse": false,
            "auto_type": false,
            "found_style": {
              "fillColor": "#3f0",
              "color": "#0f0"
            },
            "jsonp_param": "json_callback",
            "layer": null,
            "marker": "IPY_MODEL_18789a2a78c44b9291fba96b8b5203dc",
            "options": [
              "animate_location",
              "auto_collapse",
              "auto_type",
              "found_style",
              "jsonp_param",
              "position",
              "property_loc",
              "property_name",
              "url",
              "zoom"
            ],
            "position": "topright",
            "property_loc": [
              "lat",
              "lon"
            ],
            "property_name": "display_name",
            "url": "https://nominatim.openstreetmap.org/search?format=json&q={s}",
            "zoom": 5
          }
        },
        "25d9b6a14fa54eef8849f08162a0a8bd": {
          "model_module": "jupyter-leaflet",
          "model_name": "LeafletDrawControlModel",
          "model_module_version": "^0.17",
          "state": {
            "_model_module": "jupyter-leaflet",
            "_model_module_version": "^0.17",
            "_model_name": "LeafletDrawControlModel",
            "_view_count": null,
            "_view_module": "jupyter-leaflet",
            "_view_module_version": "^0.17",
            "_view_name": "LeafletDrawControlView",
            "circle": {},
            "circlemarker": {
              "shapeOptions": {}
            },
            "data": [],
            "edit": true,
            "marker": {},
            "options": [
              "position"
            ],
            "polygon": {
              "shapeOptions": {}
            },
            "polyline": {
              "shapeOptions": {}
            },
            "position": "topleft",
            "rectangle": {},
            "remove": true
          }
        },
        "6dbab3cf02cf4e4eba36b2251c741af1": {
          "model_module": "jupyter-leaflet",
          "model_name": "LeafletMapStyleModel",
          "model_module_version": "^0.17",
          "state": {
            "_model_module": "jupyter-leaflet",
            "_model_module_version": "^0.17",
            "_model_name": "LeafletMapStyleModel",
            "_view_count": null,
            "_view_module": "@jupyter-widgets/base",
            "_view_module_version": "1.2.0",
            "_view_name": "StyleView",
            "cursor": "grab"
          }
        },
        "6087c9932eaf482aa2d7749603726e10": {
          "model_module": "jupyter-leaflet",
          "model_name": "LeafletMapStyleModel",
          "model_module_version": "^0.17",
          "state": {
            "_model_module": "jupyter-leaflet",
            "_model_module_version": "^0.17",
            "_model_name": "LeafletMapStyleModel",
            "_view_count": null,
            "_view_module": "@jupyter-widgets/base",
            "_view_module_version": "1.2.0",
            "_view_name": "StyleView",
            "cursor": "move"
          }
        },
        "e747ac50d98f4d04a873abdc89a9cd2f": {
          "model_module": "jupyter-leaflet",
          "model_name": "LeafletTileLayerModel",
          "model_module_version": "^0.17",
          "state": {
            "_model_module": "jupyter-leaflet",
            "_model_module_version": "^0.17",
            "_model_name": "LeafletTileLayerModel",
            "_view_count": null,
            "_view_module": "jupyter-leaflet",
            "_view_module_version": "^0.17",
            "_view_name": "LeafletTileLayerView",
            "attribution": "Tiles &copy; Esri &mdash; Source: Esri, DeLorme, NAVTEQ, USGS, Intermap, iPC, NRCAN, Esri Japan, METI, Esri China (Hong Kong), Esri (Thailand), TomTom, 2012",
            "base": true,
            "bottom": true,
            "bounds": null,
            "detect_retina": false,
            "loading": false,
            "max_native_zoom": null,
            "max_zoom": 18,
            "min_native_zoom": null,
            "min_zoom": 1,
            "name": "ESRI WorldStreetMap",
            "no_wrap": false,
            "opacity": 1,
            "options": [
              "attribution",
              "bounds",
              "detect_retina",
              "max_native_zoom",
              "max_zoom",
              "min_native_zoom",
              "min_zoom",
              "no_wrap",
              "tile_size",
              "tms",
              "zoom_offset"
            ],
            "pane": "",
            "popup": null,
            "popup_max_height": null,
            "popup_max_width": 300,
            "popup_min_width": 50,
            "show_loading": false,
            "subitems": [],
            "tile_size": 256,
            "tms": false,
            "url": "https://server.arcgisonline.com/ArcGIS/rest/services/World_Street_Map/MapServer/tile/{z}/{y}/{x}",
            "visible": true,
            "zoom_offset": 0
          }
        },
        "6f120bf72bc44321acdb41aa40ad7321": {
          "model_module": "jupyter-leaflet",
          "model_name": "LeafletTileLayerModel",
          "model_module_version": "^0.17",
          "state": {
            "_model_module": "jupyter-leaflet",
            "_model_module_version": "^0.17",
            "_model_name": "LeafletTileLayerModel",
            "_view_count": null,
            "_view_module": "jupyter-leaflet",
            "_view_module_version": "^0.17",
            "_view_name": "LeafletTileLayerView",
            "attribution": "Tiles &copy; Esri &mdash; National Geographic, Esri, DeLorme, NAVTEQ, UNEP-WCMC, USGS, NASA, ESA, METI, NRCAN, GEBCO, NOAA, iPC",
            "base": true,
            "bottom": true,
            "bounds": null,
            "detect_retina": false,
            "loading": false,
            "max_native_zoom": null,
            "max_zoom": 16,
            "min_native_zoom": null,
            "min_zoom": 1,
            "name": "ESRI NatGeoWorldMap",
            "no_wrap": false,
            "opacity": 1,
            "options": [
              "attribution",
              "bounds",
              "detect_retina",
              "max_native_zoom",
              "max_zoom",
              "min_native_zoom",
              "min_zoom",
              "no_wrap",
              "tile_size",
              "tms",
              "zoom_offset"
            ],
            "pane": "",
            "popup": null,
            "popup_max_height": null,
            "popup_max_width": 300,
            "popup_min_width": 50,
            "show_loading": false,
            "subitems": [],
            "tile_size": 256,
            "tms": false,
            "url": "https://server.arcgisonline.com/ArcGIS/rest/services/NatGeo_World_Map/MapServer/tile/{z}/{y}/{x}",
            "visible": true,
            "zoom_offset": 0
          }
        },
        "aa96bac886fe484da8d033272685b9ae": {
          "model_module": "jupyter-leaflet",
          "model_name": "LeafletTileLayerModel",
          "model_module_version": "^0.17",
          "state": {
            "_model_module": "jupyter-leaflet",
            "_model_module_version": "^0.17",
            "_model_name": "LeafletTileLayerModel",
            "_view_count": null,
            "_view_module": "jupyter-leaflet",
            "_view_module_version": "^0.17",
            "_view_name": "LeafletTileLayerView",
            "attribution": "Tiles &copy; Esri &mdash; Source: Esri, i-cubed, USDA, USGS, AEX, GeoEye, Getmapping, Aerogrid, IGN, IGP, UPR-EGP, and the GIS User Community",
            "base": true,
            "bottom": true,
            "bounds": null,
            "detect_retina": false,
            "loading": false,
            "max_native_zoom": null,
            "max_zoom": 18,
            "min_native_zoom": null,
            "min_zoom": 1,
            "name": "ESRI WorldImagery",
            "no_wrap": false,
            "opacity": 1,
            "options": [
              "attribution",
              "bounds",
              "detect_retina",
              "max_native_zoom",
              "max_zoom",
              "min_native_zoom",
              "min_zoom",
              "no_wrap",
              "tile_size",
              "tms",
              "zoom_offset"
            ],
            "pane": "",
            "popup": null,
            "popup_max_height": null,
            "popup_max_width": 300,
            "popup_min_width": 50,
            "show_loading": false,
            "subitems": [],
            "tile_size": 256,
            "tms": false,
            "url": "https://server.arcgisonline.com/ArcGIS/rest/services/World_Imagery/MapServer/tile/{z}/{y}/{x}",
            "visible": true,
            "zoom_offset": 0
          }
        },
        "412badee4ed647b681bc5722920dcf75": {
          "model_module": "jupyter-leaflet",
          "model_name": "LeafletTileLayerModel",
          "model_module_version": "^0.17",
          "state": {
            "_model_module": "jupyter-leaflet",
            "_model_module_version": "^0.17",
            "_model_name": "LeafletTileLayerModel",
            "_view_count": null,
            "_view_module": "jupyter-leaflet",
            "_view_module_version": "^0.17",
            "_view_name": "LeafletTileLayerView",
            "attribution": "&copy; <a href=\"https://www.openstreetmap.org/copyright\">OpenStreetMap</a> contributors, Tiles style by <a href=\"https://www.hotosm.org/\" target=\"_blank\">Humanitarian OpenStreetMap Team</a> hosted by <a href=\"https://openstreetmap.fr/\" target=\"_blank\">OpenStreetMap France</a>",
            "base": true,
            "bottom": true,
            "bounds": null,
            "detect_retina": false,
            "loading": false,
            "max_native_zoom": null,
            "max_zoom": 19,
            "min_native_zoom": null,
            "min_zoom": 1,
            "name": "HOT OSM Layer",
            "no_wrap": false,
            "opacity": 1,
            "options": [
              "attribution",
              "bounds",
              "detect_retina",
              "max_native_zoom",
              "max_zoom",
              "min_native_zoom",
              "min_zoom",
              "no_wrap",
              "tile_size",
              "tms",
              "zoom_offset"
            ],
            "pane": "",
            "popup": null,
            "popup_max_height": null,
            "popup_max_width": 300,
            "popup_min_width": 50,
            "show_loading": false,
            "subitems": [],
            "tile_size": 256,
            "tms": false,
            "url": "https://a.tile.openstreetmap.fr/hot/{z}/{x}/{y}.png",
            "visible": true,
            "zoom_offset": 0
          }
        },
        "359f46cd5daa40559b12b6f5f62c05f9": {
          "model_module": "jupyter-leaflet",
          "model_name": "LeafletGeoJSONModel",
          "model_module_version": "^0.17",
          "state": {
            "_model_module": "jupyter-leaflet",
            "_model_module_version": "^0.17",
            "_model_name": "LeafletGeoJSONModel",
            "_view_count": null,
            "_view_module": "jupyter-leaflet",
            "_view_module_version": "^0.17",
            "_view_name": "LeafletGeoJSONView",
            "base": false,
            "bottom": false,
            "data": {
              "geometry": {
                "type": "Polygon",
                "coordinates": [
                  [
                    [
                      0,
                      0
                    ],
                    [
                      0,
                      10
                    ],
                    [
                      10,
                      10
                    ],
                    [
                      10,
                      0
                    ],
                    [
                      0,
                      0
                    ]
                  ]
                ]
              },
              "properties": {},
              "type": "Feature"
            },
            "hover_style": {},
            "layers": [],
            "name": "",
            "options": [],
            "pane": "",
            "point_style": {},
            "popup": null,
            "popup_max_height": null,
            "popup_max_width": 300,
            "popup_min_width": 50,
            "style": {},
            "subitems": [],
            "visible": true
          }
        },
        "d018c972fe464e5a8ed9550a5446208b": {
          "model_module": "@jupyter-widgets/base",
          "model_name": "LayoutModel",
          "model_module_version": "1.2.0",
          "state": {
            "_model_module": "@jupyter-widgets/base",
            "_model_module_version": "1.2.0",
            "_model_name": "LayoutModel",
            "_view_count": null,
            "_view_module": "@jupyter-widgets/base",
            "_view_module_version": "1.2.0",
            "_view_name": "LayoutView",
            "align_content": null,
            "align_items": null,
            "align_self": null,
            "border": null,
            "bottom": null,
            "display": null,
            "flex": null,
            "flex_flow": null,
            "grid_area": null,
            "grid_auto_columns": null,
            "grid_auto_flow": null,
            "grid_auto_rows": null,
            "grid_column": null,
            "grid_gap": null,
            "grid_row": null,
            "grid_template_areas": null,
            "grid_template_columns": null,
            "grid_template_rows": null,
            "height": "700px",
            "justify_content": null,
            "justify_items": null,
            "left": null,
            "margin": null,
            "max_height": null,
            "max_width": null,
            "min_height": null,
            "min_width": null,
            "object_fit": null,
            "object_position": null,
            "order": null,
            "overflow": null,
            "overflow_x": null,
            "overflow_y": null,
            "padding": null,
            "right": null,
            "top": null,
            "visibility": null,
            "width": "80%"
          }
        },
        "a70342f069aa45e68c78add4c47aa5dc": {
          "model_module": "jupyter-leaflet",
          "model_name": "LeafletMapStyleModel",
          "model_module_version": "^0.17",
          "state": {
            "_model_module": "jupyter-leaflet",
            "_model_module_version": "^0.17",
            "_model_name": "LeafletMapStyleModel",
            "_view_count": null,
            "_view_module": "@jupyter-widgets/base",
            "_view_module_version": "1.2.0",
            "_view_name": "StyleView",
            "cursor": "grab"
          }
        },
        "18789a2a78c44b9291fba96b8b5203dc": {
          "model_module": "jupyter-leaflet",
          "model_name": "LeafletMarkerModel",
          "model_module_version": "^0.17",
          "state": {
            "_model_module": "jupyter-leaflet",
            "_model_module_version": "^0.17",
            "_model_name": "LeafletMarkerModel",
            "_view_count": null,
            "_view_module": "jupyter-leaflet",
            "_view_module_version": "^0.17",
            "_view_name": "LeafletMarkerView",
            "alt": "",
            "base": false,
            "bottom": false,
            "draggable": true,
            "icon": "IPY_MODEL_6c87f32e8a8b444088f968d9bd331119",
            "keyboard": true,
            "location": [
              0,
              0
            ],
            "name": "",
            "opacity": 1,
            "options": [
              "alt",
              "draggable",
              "keyboard",
              "rise_offset",
              "rise_on_hover",
              "rotation_angle",
              "rotation_origin",
              "title",
              "z_index_offset"
            ],
            "pane": "",
            "popup": null,
            "popup_max_height": null,
            "popup_max_width": 300,
            "popup_min_width": 50,
            "rise_offset": 250,
            "rise_on_hover": false,
            "rotation_angle": 0,
            "rotation_origin": "",
            "subitems": [],
            "title": "",
            "visible": true,
            "z_index_offset": 0
          }
        },
        "6c87f32e8a8b444088f968d9bd331119": {
          "model_module": "jupyter-leaflet",
          "model_name": "LeafletAwesomeIconModel",
          "model_module_version": "^0.17",
          "state": {
            "_model_module": "jupyter-leaflet",
            "_model_module_version": "^0.17",
            "_model_name": "LeafletAwesomeIconModel",
            "_view_count": null,
            "_view_module": "jupyter-leaflet",
            "_view_module_version": "^0.17",
            "_view_name": "LeafletAwesomeIconView",
            "base": false,
            "bottom": false,
            "icon_color": "darkgreen",
            "marker_color": "green",
            "name": "map-marker",
            "options": [],
            "pane": "",
            "popup": null,
            "popup_max_height": null,
            "popup_max_width": 300,
            "popup_min_width": 50,
            "spin": false,
            "subitems": []
          }
        }
      }
    }
  },
  "nbformat": 4,
  "nbformat_minor": 0
}